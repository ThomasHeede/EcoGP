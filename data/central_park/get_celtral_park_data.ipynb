{
 "cells": [
  {
   "metadata": {
    "ExecuteTime": {
     "end_time": "2025-04-22T11:48:31.222014Z",
     "start_time": "2025-04-22T11:48:30.633896Z"
    }
   },
   "cell_type": "code",
   "source": [
    "import pandas as pd\n",
    "\n",
    "import xml.etree.ElementTree as ET\n",
    "\n",
    "def get_attr(attributes, name):\n",
    "    for attr in attributes.findall('Attribute'):\n",
    "        if attr.attrib.get('attribute_name') == name:\n",
    "            return eval(attr.text)\n",
    "    return None\n",
    "\n",
    "def get_ers_id(ids_elem):\n",
    "    for id_elem in ids_elem.findall('Id'):\n",
    "        if id_elem.attrib.get('db') == 'SRA':\n",
    "            return id_elem.text\n",
    "    return None\n",
    "\n",
    "def get_data(xml):\n",
    "    tree = ET.parse(xml)\n",
    "    root = tree.getroot()\n",
    "    \n",
    "    data = []\n",
    "    # Extract data\n",
    "    for sample in root.findall('BioSample'):\n",
    "        ers = get_ers_id(sample.find('Ids'))\n",
    "        attrs = sample.find('Attributes')\n",
    "    \n",
    "        lat = get_attr(attrs, 'latitude')\n",
    "        lon = get_attr(attrs, 'longitude')\n",
    "        lon = lon if lon < 0 else -lon\n",
    "        ph = get_attr(attrs, 'ph')\n",
    "        nitrogen = get_attr(attrs, \"tot_nitro\")\n",
    "        carbon = get_attr(attrs, \"tot_org_carb\")\n",
    "        water = get_attr(attrs, \"water_content_soil\")\n",
    "        \n",
    "        data.append([ers, lon, lat, ph, nitrogen, carbon, water])\n",
    "    \n",
    "        # print(f'{ers=}, {lat=}, {lon=}, {ph=}, {nitrogen=}, {carbon=}, {water=}')\n",
    "        \n",
    "    return data\n"
   ],
   "id": "6c45e1af00ecca26",
   "outputs": [],
   "execution_count": 2
  },
  {
   "metadata": {
    "ExecuteTime": {
     "end_time": "2025-04-22T11:48:31.468773Z",
     "start_time": "2025-04-22T11:48:31.355813Z"
    }
   },
   "cell_type": "code",
   "source": [
    "data = get_data('/Users/cp68wp/Downloads/biosample_result.xml')\n",
    "df = pd.DataFrame(data, columns=[\"sample\", \"longitude\", \"latitude\", \"pH\", \"nitrogen\", \"carbon\", \"water\"])\n",
    "df = df[~df[[\"longitude\", \"latitude\"]].duplicated()]\n",
    "df = df.set_index(\"sample\")"
   ],
   "id": "21a51286b8521076",
   "outputs": [],
   "execution_count": 3
  },
  {
   "metadata": {
    "ExecuteTime": {
     "end_time": "2025-04-22T11:48:33.394225Z",
     "start_time": "2025-04-22T11:48:31.635555Z"
    }
   },
   "cell_type": "code",
   "source": [
    "Y = pd.read_csv(\"/Users/cp68wp/Downloads/20250418_selection_ERP006161.tsv\", sep=\"\\t\")\n",
    "Y[\"sample\"] = Y[\"sample\"].str.split(\".\").str[-1]\n",
    "Y = Y.groupby(\"sample\").mean()\n",
    "\n",
    "intersection = list(set.intersection(set(df.index), set(Y.index)))"
   ],
   "id": "8267d2b280d9a36a",
   "outputs": [],
   "execution_count": 4
  },
  {
   "metadata": {
    "ExecuteTime": {
     "end_time": "2025-04-21T08:24:42.121645Z",
     "start_time": "2025-04-21T08:24:42.091093Z"
    }
   },
   "cell_type": "code",
   "source": [
    "df = df[df.index.isin(intersection)].sort_index()\n",
    "Y = Y[Y.index.isin(intersection)].sort_index()"
   ],
   "id": "a55a60d01109e466",
   "outputs": [],
   "execution_count": 38
  },
  {
   "metadata": {
    "ExecuteTime": {
     "end_time": "2025-04-21T08:25:45.191365Z",
     "start_time": "2025-04-21T08:25:45.186993Z"
    }
   },
   "cell_type": "code",
   "source": [
    "coords = df[[\"longitude\", \"latitude\"]]\n",
    "X = df[[\"pH\", \"nitrogen\", \"carbon\", \"water\"]]"
   ],
   "id": "989124834fb35f18",
   "outputs": [],
   "execution_count": 41
  },
  {
   "metadata": {
    "ExecuteTime": {
     "end_time": "2025-04-21T08:28:19.675002Z",
     "start_time": "2025-04-21T08:28:16.326975Z"
    }
   },
   "cell_type": "code",
   "source": [
    "folder = \"/Users/cp68wp/Documents/GitHub/Biogeography/data/central_park/\"\n",
    "Y.to_csv(folder + \"Y.csv\")\n",
    "X.to_csv(folder + \"X.csv\")\n",
    "coords.to_csv(folder + \"XY.csv\")"
   ],
   "id": "7f2b8fcd51995561",
   "outputs": [],
   "execution_count": 43
  },
  {
   "metadata": {
    "ExecuteTime": {
     "end_time": "2025-04-22T11:48:36.804814Z",
     "start_time": "2025-04-22T11:48:36.799597Z"
    }
   },
   "cell_type": "code",
   "source": "Y.columns",
   "id": "3ecc6a9a802c5bd3",
   "outputs": [
    {
     "data": {
      "text/plain": [
       "Index(['90_185;96_16405;97_20124;98_25148;99_34011',\n",
       "       '90_216;96_15732;97_19276;98_24071;99_64198',\n",
       "       '90_3105;96_30279;97_57620;98_76387;99_112705',\n",
       "       '90_15845;96_20525;97_25540;98_32388;99_44643',\n",
       "       '90_2158;96_43284;97_55396;98_98858;99_149512',\n",
       "       '90_1518;96_32731;97_41456;98_54108;99_77453',\n",
       "       '90_17850;96_69182;97_89870;98_122195;99_188475',\n",
       "       '90_816;96_25073;97_78740;98_106385;99_161692',\n",
       "       '90_10523;96_45814;97_58791;98_78067;99_115470',\n",
       "       '90_372;96_5501;97_6633;98_8238;99_34284',\n",
       "       ...\n",
       "       '90_10;96_43344;97_55471;98_114950;99_175741',\n",
       "       '90_10583;96_46061;97_59102;98_78474;99_116106',\n",
       "       '90_976;96_57977;97_75022;98_101091;99_153194',\n",
       "       '90_15798;96_5835;97_22064;98_27710;99_37686',\n",
       "       '90_1451;96_6216;97_7472;98_9205;99_167561',\n",
       "       '90_5783;96_25829;97_32396;98_41532;99_58334',\n",
       "       '90_142;96_7953;97_17569;98_21830;99_43178',\n",
       "       '90_19736;96_80737;97_103907;98_139646;99_210799',\n",
       "       '90_86;96_14989;97_18306;98_22790;99_113462',\n",
       "       '90_783;96_34589;97_43872;98_92670;99_139299'],\n",
       "      dtype='object', length=12609)"
      ]
     },
     "execution_count": 5,
     "metadata": {},
     "output_type": "execute_result"
    }
   ],
   "execution_count": 5
  },
  {
   "metadata": {},
   "cell_type": "code",
   "outputs": [],
   "execution_count": null,
   "source": "",
   "id": "6ce1fa1d8b20973e"
  }
 ],
 "metadata": {
  "kernelspec": {
   "display_name": "Python 3",
   "language": "python",
   "name": "python3"
  },
  "language_info": {
   "codemirror_mode": {
    "name": "ipython",
    "version": 2
   },
   "file_extension": ".py",
   "mimetype": "text/x-python",
   "name": "python",
   "nbconvert_exporter": "python",
   "pygments_lexer": "ipython2",
   "version": "2.7.6"
  }
 },
 "nbformat": 4,
 "nbformat_minor": 5
}
